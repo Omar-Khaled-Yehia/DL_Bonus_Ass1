{
  "nbformat": 4,
  "nbformat_minor": 0,
  "metadata": {
    "colab": {
      "provenance": [],
      "gpuType": "T4"
    },
    "kernelspec": {
      "name": "python3",
      "display_name": "Python 3"
    },
    "language_info": {
      "name": "python"
    },
    "accelerator": "GPU"
  },
  "cells": [
    {
      "cell_type": "markdown",
      "source": [
        "## Objective and Dataset\n",
        "The goal is to build a multiclass classification model using Keras to classify images of faces from the .\n",
        "This dataset contains facial images of different celebrities (or people), and the task is to classify the images into different categories based on the person’s identity."
      ],
      "metadata": {
        "id": "UJUS7r5AsIBT"
      }
    },
    {
      "cell_type": "markdown",
      "source": [
        "## Installation\n",
        "### Clone the repository:\n",
        "git clone https://github.com/yourusername/face-recognition-model.git\n",
        "cd face-recognition-model\n",
        "### Install required packages:\n",
        "bash pip install -r requirements.txt\n",
        "\n",
        "### Download the dataset:\n",
        "The code will automatically download the dataset using kagglehub. Usage Run the main script:\n",
        "\n",
        "python face_recognition_model.py"
      ],
      "metadata": {
        "id": "JKAvHAMHsJv8"
      }
    },
    {
      "cell_type": "code",
      "source": [
        "import os\n",
        "import cv2\n",
        "import numpy as np\n",
        "import matplotlib.pyplot as plt\n",
        "import tensorflow as tf\n",
        "from tensorflow.keras.preprocessing.image import ImageDataGenerator\n",
        "from tensorflow.keras.models import Sequential\n",
        "from tensorflow.keras.layers import Dense, Dropout, Flatten, BatchNormalization, Conv2D, MaxPooling2D\n",
        "from tensorflow.keras.callbacks import EarlyStopping, ReduceLROnPlateau, ModelCheckpoint\n",
        "from tensorflow.keras.optimizers import Adam\n",
        "from sklearn.metrics import classification_report\n",
        "import kagglehub"
      ],
      "metadata": {
        "id": "FWt40d0ua28K"
      },
      "execution_count": 1,
      "outputs": []
    },
    {
      "cell_type": "code",
      "source": [
        "# Download dataset\n",
        "path = kagglehub.dataset_download(\"hereisburak/pins-face-recognition\")\n",
        "print(\"Dataset path:\", path)"
      ],
      "metadata": {
        "colab": {
          "base_uri": "https://localhost:8080/"
        },
        "id": "sUHw04z8a25W",
        "outputId": "86d7497c-b20c-4ee9-e03b-83725defb6f2"
      },
      "execution_count": 2,
      "outputs": [
        {
          "output_type": "stream",
          "name": "stdout",
          "text": [
            "Dataset path: /root/.cache/kagglehub/datasets/hereisburak/pins-face-recognition/versions/1\n"
          ]
        }
      ]
    },
    {
      "cell_type": "code",
      "source": [
        "def validate_dataset():\n",
        "    \"\"\"Validate dataset integrity and show class distribution\"\"\"\n",
        "    corrupt_files = []\n",
        "    class_counts = {}\n",
        "\n",
        "    for root, dirs, files in os.walk(path):\n",
        "        for file in files:\n",
        "            if file.lower().endswith(('.png', '.jpg', '.jpeg')):\n",
        "                file_path = os.path.join(root, file)\n",
        "                try:\n",
        "                    img = cv2.imread(file_path)\n",
        "                    if img is None:\n",
        "                        corrupt_files.append(file_path)\n",
        "                    else:\n",
        "                        class_name = os.path.basename(root)\n",
        "                        class_counts[class_name] = class_counts.get(class_name, 0) + 1\n",
        "                except:\n",
        "                    corrupt_files.append(file_path)\n",
        "\n",
        "    print(\"\\nClass distribution:\")\n",
        "    for class_name, count in class_counts.items():\n",
        "        print(f\"{class_name}: {count} images\")\n",
        "\n",
        "    if corrupt_files:\n",
        "        print(\"\\nCorrupt files found:\")\n",
        "        for file in corrupt_files:\n",
        "            print(file)\n",
        "    else:\n",
        "        print(\"\\nNo corrupt files found\")\n",
        "\n",
        "    return class_counts"
      ],
      "metadata": {
        "id": "bnnkLNcNa23F"
      },
      "execution_count": 3,
      "outputs": []
    },
    {
      "cell_type": "code",
      "source": [
        "# Validate dataset before processing\n",
        "class_counts = validate_dataset()\n",
        "num_classes = len(class_counts)\n",
        "print(f\"\\nTotal number of classes: {num_classes}\")"
      ],
      "metadata": {
        "colab": {
          "base_uri": "https://localhost:8080/"
        },
        "id": "cXpL7IT6a206",
        "outputId": "31281f92-c724-4bc2-f72a-a31d16f60b0a"
      },
      "execution_count": 4,
      "outputs": [
        {
          "output_type": "stream",
          "name": "stdout",
          "text": [
            "\n",
            "Class distribution:\n",
            "pins_Bobby Morley: 138 images\n",
            "pins_Rebecca Ferguson: 178 images\n",
            "pins_Alexandra Daddario: 225 images\n",
            "pins_Morena Baccarin: 175 images\n",
            "pins_Emma Stone: 139 images\n",
            "pins_Lionel Messi: 86 images\n",
            "pins_Sarah Wayne Callies: 159 images\n",
            "pins_Miley Cyrus: 178 images\n",
            "pins_Amanda Crew: 117 images\n",
            "pins_Natalie Portman: 166 images\n",
            "pins_Chris Pratt: 176 images\n",
            "pins_Alex Lawther: 152 images\n",
            "pins_Marie Avgeropoulos: 161 images\n",
            "pins_Penn Badgley: 171 images\n",
            "pins_Maria Pedraza: 122 images\n",
            "pins_Maisie Williams: 193 images\n",
            "pins_Anthony Mackie: 124 images\n",
            "pins_Keanu Reeves: 160 images\n",
            "pins_Jake Mcdorman: 159 images\n",
            "pins_Brian J. Smith: 102 images\n",
            "pins_Mark Ruffalo: 178 images\n",
            "pins_Tom Holland: 189 images\n",
            "pins_Danielle Panabaker: 181 images\n",
            "pins_Gwyneth Paltrow: 187 images\n",
            "pins_Jessica Barden: 141 images\n",
            "pins_Rami Malek: 160 images\n",
            "pins_alycia dabnem carey: 211 images\n",
            "pins_Alvaro Morte: 139 images\n",
            "pins_Jeremy Renner: 167 images\n",
            "pins_Dwayne Johnson: 141 images\n",
            "pins_ellen page: 188 images\n",
            "pins_Andy Samberg: 196 images\n",
            "pins_Tom Cruise: 192 images\n",
            "pins_Lili Reinhart: 150 images\n",
            "pins_grant gustin: 183 images\n",
            "pins_barack obama: 119 images\n",
            "pins_Adriana Lima: 213 images\n",
            "pins_camila mendes: 162 images\n",
            "pins_Bill Gates: 122 images\n",
            "pins_Ursula Corbero: 167 images\n",
            "pins_Wentworth Miller: 179 images\n",
            "pins_Tuppence Middleton: 133 images\n",
            "pins_Johnny Depp: 182 images\n",
            "pins_Jimmy Fallon: 113 images\n",
            "pins_Anne Hathaway: 203 images\n",
            "pins_Millie Bobby Brown: 191 images\n",
            "pins_Zoe Saldana: 186 images\n",
            "pins_elon musk: 135 images\n",
            "pins_Pedro Alonso: 125 images\n",
            "pins_Cristiano Ronaldo: 98 images\n",
            "pins_Katharine Mcphee: 177 images\n",
            "pins_Brie Larson: 169 images\n",
            "pins_melissa fumero: 154 images\n",
            "pins_Tom Hardy: 198 images\n",
            "pins_Jason Momoa: 184 images\n",
            "pins_Logan Lerman: 212 images\n",
            "pins_Leonardo DiCaprio: 237 images\n",
            "pins_Chris Evans: 166 images\n",
            "pins_Jennifer Lawrence: 180 images\n",
            "pins_gal gadot: 199 images\n",
            "pins_Chris Hemsworth: 159 images\n",
            "pins_Lindsey Morgan: 169 images\n",
            "pins_Elizabeth Lail: 158 images\n",
            "pins_Zendaya: 138 images\n",
            "pins_Taylor Swift: 131 images\n",
            "pins_barbara palvin: 197 images\n",
            "pins_Hugh Jackman: 179 images\n",
            "pins_Robert De Niro: 156 images\n",
            "pins_Christian Bale: 154 images\n",
            "pins_Mark Zuckerberg: 95 images\n",
            "pins_elizabeth olsen: 221 images\n",
            "pins_Avril Lavigne: 162 images\n",
            "pins_Robert Downey Jr: 233 images\n",
            "pins_Dominic Purcell: 146 images\n",
            "pins_Madelaine Petsch: 192 images\n",
            "pins_margot robbie: 221 images\n",
            "pins_jeff bezos: 106 images\n",
            "pins_Emilia Clarke: 210 images\n",
            "pins_Brenton Thwaites: 209 images\n",
            "pins_Henry Cavil: 195 images\n",
            "pins_Ben Affleck: 126 images\n",
            "pins_Neil Patrick Harris: 116 images\n",
            "pins_amber heard: 218 images\n",
            "pins_Inbar Lavi: 127 images\n",
            "pins_Josh Radnor: 117 images\n",
            "pins_Zac Efron: 191 images\n",
            "pins_Tom Hiddleston: 181 images\n",
            "pins_scarlett johansson: 201 images\n",
            "pins_tom ellis: 180 images\n",
            "pins_Krysten Ritter: 171 images\n",
            "pins_Natalie Dormer: 198 images\n",
            "pins_Shakira Isabel Mebarak: 154 images\n",
            "pins_Sophie Turner: 204 images\n",
            "pins_Nadia Hilker: 133 images\n",
            "pins_Stephen Amell: 159 images\n",
            "pins_Katherine Langford: 226 images\n",
            "pins_Eliza Taylor: 162 images\n",
            "pins_Irina Shayk: 156 images\n",
            "pins_Megan Fox: 209 images\n",
            "pins_Selena Gomez: 186 images\n",
            "pins_Emma Watson: 211 images\n",
            "pins_kiernen shipka: 203 images\n",
            "pins_Rihanna: 133 images\n",
            "pins_Morgan Freeman: 105 images\n",
            "pins_Richard Harmon: 148 images\n",
            "\n",
            "No corrupt files found\n",
            "\n",
            "Total number of classes: 105\n"
          ]
        }
      ]
    },
    {
      "cell_type": "markdown",
      "source": [
        "# Objective\n",
        "# The objective is to build a multiclass classification model using Keras\n",
        "# to classify facial images of celebrities, achieving a target accuracy of at least 85%."
      ],
      "metadata": {
        "id": "WSGnelcLU0tH"
      }
    },
    {
      "cell_type": "markdown",
      "source": [
        "# Data Loading and Preprocessing"
      ],
      "metadata": {
        "id": "vTb-UVwVU37Q"
      }
    },
    {
      "cell_type": "code",
      "source": [
        "# Data Preprocessing and Augmentation\n",
        "train_datagen = ImageDataGenerator(\n",
        "    rescale=1./255,\n",
        "    rotation_range=20,\n",
        "    width_shift_range=0.2,\n",
        "    height_shift_range=0.2,\n",
        "    horizontal_flip=True,\n",
        "    zoom_range=0.2,\n",
        "    shear_range=0.2,\n",
        "    fill_mode='nearest',\n",
        "    validation_split=0.2\n",
        ")\n",
        "\n",
        "# Create data generators with sparse categorical labels\n",
        "train_generator = train_datagen.flow_from_directory(\n",
        "    path,\n",
        "    target_size=(100, 100),\n",
        "    batch_size=32,\n",
        "    class_mode='sparse',  # Changed to sparse\n",
        "    subset='training',\n",
        "    shuffle=True,\n",
        "    seed=42\n",
        ")\n",
        "\n",
        "validation_generator = train_datagen.flow_from_directory(\n",
        "    path,\n",
        "    target_size=(100, 100),\n",
        "    batch_size=32,\n",
        "    class_mode='sparse',  # Changed to sparse\n",
        "    subset='validation',\n",
        "    shuffle=True,\n",
        "    seed=42\n",
        ")"
      ],
      "metadata": {
        "colab": {
          "base_uri": "https://localhost:8080/"
        },
        "id": "3bqFFWaAdo8i",
        "outputId": "bc2b41b9-90df-41d7-b705-6c12fd1a1340"
      },
      "execution_count": 5,
      "outputs": [
        {
          "output_type": "stream",
          "name": "stdout",
          "text": [
            "Found 14028 images belonging to 1 classes.\n",
            "Found 3506 images belonging to 1 classes.\n"
          ]
        }
      ]
    },
    {
      "cell_type": "code",
      "source": [
        "# Verify generators\n",
        "print(f\"\\nTraining samples: {train_generator.samples}\")\n",
        "print(f\"Validation samples: {validation_generator.samples}\")\n",
        "print(f\"Steps per epoch (training): {len(train_generator)}\")\n",
        "print(f\"Steps per epoch (validation): {len(validation_generator)}\")"
      ],
      "metadata": {
        "colab": {
          "base_uri": "https://localhost:8080/"
        },
        "id": "P_A9Kj8Wr8wy",
        "outputId": "b2945e68-2237-40fa-fc1c-2beaa84ac520"
      },
      "execution_count": 6,
      "outputs": [
        {
          "output_type": "stream",
          "name": "stdout",
          "text": [
            "\n",
            "Training samples: 14028\n",
            "Validation samples: 3506\n",
            "Steps per epoch (training): 439\n",
            "Steps per epoch (validation): 110\n"
          ]
        }
      ]
    },
    {
      "cell_type": "code",
      "source": [
        "# Verify data shape and values\n",
        "X_batch, y_batch = next(train_generator)\n",
        "print(f\"\\nBatch shape: {X_batch.shape}\")\n",
        "print(f\"Labels shape: {y_batch.shape}\")\n",
        "print(f\"Value range: {X_batch.min():.3f} to {X_batch.max():.3f}\")"
      ],
      "metadata": {
        "colab": {
          "base_uri": "https://localhost:8080/"
        },
        "id": "IyhoDpuwr-_W",
        "outputId": "dfd6d4c4-3f8c-4f47-81c0-69703d778a05"
      },
      "execution_count": 7,
      "outputs": [
        {
          "output_type": "stream",
          "name": "stdout",
          "text": [
            "\n",
            "Batch shape: (32, 100, 100, 3)\n",
            "Labels shape: (32,)\n",
            "Value range: 0.000 to 1.000\n"
          ]
        }
      ]
    },
    {
      "cell_type": "code",
      "source": [
        "# ANN Model for image classification\n",
        "model = Sequential([\n",
        "    # Input Layer - Flattened 100x100x3 image using Flatten layer\n",
        "    Flatten(input_shape=(100, 100, 3)), # Add Flatten layer to reshape input\n",
        "    Dense(1024, activation='relu'),\n",
        "    BatchNormalization(),\n",
        "    Dropout(0.3),\n",
        "\n",
        "    # Hidden Layers\n",
        "    Dense(512, activation='relu', kernel_regularizer=tf.keras.regularizers.l2(0.01)),\n",
        "    BatchNormalization(),\n",
        "    Dropout(0.4),\n",
        "\n",
        "    Dense(256, activation='relu', kernel_regularizer=tf.keras.regularizers.l2(0.01)),\n",
        "    BatchNormalization(),\n",
        "    Dropout(0.4),\n",
        "\n",
        "    # Output Layer\n",
        "    Dense(num_classes, activation='softmax')\n",
        "])"
      ],
      "metadata": {
        "colab": {
          "base_uri": "https://localhost:8080/"
        },
        "id": "w8YjnSaOc9yG",
        "outputId": "39f8a066-398c-45c1-e5d2-b3e54ca91efb"
      },
      "execution_count": 8,
      "outputs": [
        {
          "output_type": "stream",
          "name": "stderr",
          "text": [
            "/usr/local/lib/python3.10/dist-packages/keras/src/layers/reshaping/flatten.py:37: UserWarning: Do not pass an `input_shape`/`input_dim` argument to a layer. When using Sequential models, prefer using an `Input(shape)` object as the first layer in the model instead.\n",
            "  super().__init__(**kwargs)\n"
          ]
        }
      ]
    },
    {
      "cell_type": "code",
      "source": [
        "# Compile model with sparse categorical crossentropy\n",
        "model.compile(\n",
        "    optimizer=Adam(learning_rate=0.0001),\n",
        "    loss='sparse_categorical_crossentropy',\n",
        "    metrics=['accuracy']\n",
        ")\n",
        "\n",
        "# Summary of the model\n",
        "model.summary()"
      ],
      "metadata": {
        "colab": {
          "base_uri": "https://localhost:8080/",
          "height": 529
        },
        "id": "AGJYCZWmc9wO",
        "outputId": "070b5ce1-7fc6-40a5-9a6b-52074b8878b9"
      },
      "execution_count": 9,
      "outputs": [
        {
          "output_type": "display_data",
          "data": {
            "text/plain": [
              "\u001b[1mModel: \"sequential\"\u001b[0m\n"
            ],
            "text/html": [
              "<pre style=\"white-space:pre;overflow-x:auto;line-height:normal;font-family:Menlo,'DejaVu Sans Mono',consolas,'Courier New',monospace\"><span style=\"font-weight: bold\">Model: \"sequential\"</span>\n",
              "</pre>\n"
            ]
          },
          "metadata": {}
        },
        {
          "output_type": "display_data",
          "data": {
            "text/plain": [
              "┏━━━━━━━━━━━━━━━━━━━━━━━━━━━━━━━━━━━━━━┳━━━━━━━━━━━━━━━━━━━━━━━━━━━━━┳━━━━━━━━━━━━━━━━━┓\n",
              "┃\u001b[1m \u001b[0m\u001b[1mLayer (type)                        \u001b[0m\u001b[1m \u001b[0m┃\u001b[1m \u001b[0m\u001b[1mOutput Shape               \u001b[0m\u001b[1m \u001b[0m┃\u001b[1m \u001b[0m\u001b[1m        Param #\u001b[0m\u001b[1m \u001b[0m┃\n",
              "┡━━━━━━━━━━━━━━━━━━━━━━━━━━━━━━━━━━━━━━╇━━━━━━━━━━━━━━━━━━━━━━━━━━━━━╇━━━━━━━━━━━━━━━━━┩\n",
              "│ flatten (\u001b[38;5;33mFlatten\u001b[0m)                    │ (\u001b[38;5;45mNone\u001b[0m, \u001b[38;5;34m30000\u001b[0m)               │               \u001b[38;5;34m0\u001b[0m │\n",
              "├──────────────────────────────────────┼─────────────────────────────┼─────────────────┤\n",
              "│ dense (\u001b[38;5;33mDense\u001b[0m)                        │ (\u001b[38;5;45mNone\u001b[0m, \u001b[38;5;34m1024\u001b[0m)                │      \u001b[38;5;34m30,721,024\u001b[0m │\n",
              "├──────────────────────────────────────┼─────────────────────────────┼─────────────────┤\n",
              "│ batch_normalization                  │ (\u001b[38;5;45mNone\u001b[0m, \u001b[38;5;34m1024\u001b[0m)                │           \u001b[38;5;34m4,096\u001b[0m │\n",
              "│ (\u001b[38;5;33mBatchNormalization\u001b[0m)                 │                             │                 │\n",
              "├──────────────────────────────────────┼─────────────────────────────┼─────────────────┤\n",
              "│ dropout (\u001b[38;5;33mDropout\u001b[0m)                    │ (\u001b[38;5;45mNone\u001b[0m, \u001b[38;5;34m1024\u001b[0m)                │               \u001b[38;5;34m0\u001b[0m │\n",
              "├──────────────────────────────────────┼─────────────────────────────┼─────────────────┤\n",
              "│ dense_1 (\u001b[38;5;33mDense\u001b[0m)                      │ (\u001b[38;5;45mNone\u001b[0m, \u001b[38;5;34m512\u001b[0m)                 │         \u001b[38;5;34m524,800\u001b[0m │\n",
              "├──────────────────────────────────────┼─────────────────────────────┼─────────────────┤\n",
              "│ batch_normalization_1                │ (\u001b[38;5;45mNone\u001b[0m, \u001b[38;5;34m512\u001b[0m)                 │           \u001b[38;5;34m2,048\u001b[0m │\n",
              "│ (\u001b[38;5;33mBatchNormalization\u001b[0m)                 │                             │                 │\n",
              "├──────────────────────────────────────┼─────────────────────────────┼─────────────────┤\n",
              "│ dropout_1 (\u001b[38;5;33mDropout\u001b[0m)                  │ (\u001b[38;5;45mNone\u001b[0m, \u001b[38;5;34m512\u001b[0m)                 │               \u001b[38;5;34m0\u001b[0m │\n",
              "├──────────────────────────────────────┼─────────────────────────────┼─────────────────┤\n",
              "│ dense_2 (\u001b[38;5;33mDense\u001b[0m)                      │ (\u001b[38;5;45mNone\u001b[0m, \u001b[38;5;34m256\u001b[0m)                 │         \u001b[38;5;34m131,328\u001b[0m │\n",
              "├──────────────────────────────────────┼─────────────────────────────┼─────────────────┤\n",
              "│ batch_normalization_2                │ (\u001b[38;5;45mNone\u001b[0m, \u001b[38;5;34m256\u001b[0m)                 │           \u001b[38;5;34m1,024\u001b[0m │\n",
              "│ (\u001b[38;5;33mBatchNormalization\u001b[0m)                 │                             │                 │\n",
              "├──────────────────────────────────────┼─────────────────────────────┼─────────────────┤\n",
              "│ dropout_2 (\u001b[38;5;33mDropout\u001b[0m)                  │ (\u001b[38;5;45mNone\u001b[0m, \u001b[38;5;34m256\u001b[0m)                 │               \u001b[38;5;34m0\u001b[0m │\n",
              "├──────────────────────────────────────┼─────────────────────────────┼─────────────────┤\n",
              "│ dense_3 (\u001b[38;5;33mDense\u001b[0m)                      │ (\u001b[38;5;45mNone\u001b[0m, \u001b[38;5;34m105\u001b[0m)                 │          \u001b[38;5;34m26,985\u001b[0m │\n",
              "└──────────────────────────────────────┴─────────────────────────────┴─────────────────┘\n"
            ],
            "text/html": [
              "<pre style=\"white-space:pre;overflow-x:auto;line-height:normal;font-family:Menlo,'DejaVu Sans Mono',consolas,'Courier New',monospace\">┏━━━━━━━━━━━━━━━━━━━━━━━━━━━━━━━━━━━━━━┳━━━━━━━━━━━━━━━━━━━━━━━━━━━━━┳━━━━━━━━━━━━━━━━━┓\n",
              "┃<span style=\"font-weight: bold\"> Layer (type)                         </span>┃<span style=\"font-weight: bold\"> Output Shape                </span>┃<span style=\"font-weight: bold\">         Param # </span>┃\n",
              "┡━━━━━━━━━━━━━━━━━━━━━━━━━━━━━━━━━━━━━━╇━━━━━━━━━━━━━━━━━━━━━━━━━━━━━╇━━━━━━━━━━━━━━━━━┩\n",
              "│ flatten (<span style=\"color: #0087ff; text-decoration-color: #0087ff\">Flatten</span>)                    │ (<span style=\"color: #00d7ff; text-decoration-color: #00d7ff\">None</span>, <span style=\"color: #00af00; text-decoration-color: #00af00\">30000</span>)               │               <span style=\"color: #00af00; text-decoration-color: #00af00\">0</span> │\n",
              "├──────────────────────────────────────┼─────────────────────────────┼─────────────────┤\n",
              "│ dense (<span style=\"color: #0087ff; text-decoration-color: #0087ff\">Dense</span>)                        │ (<span style=\"color: #00d7ff; text-decoration-color: #00d7ff\">None</span>, <span style=\"color: #00af00; text-decoration-color: #00af00\">1024</span>)                │      <span style=\"color: #00af00; text-decoration-color: #00af00\">30,721,024</span> │\n",
              "├──────────────────────────────────────┼─────────────────────────────┼─────────────────┤\n",
              "│ batch_normalization                  │ (<span style=\"color: #00d7ff; text-decoration-color: #00d7ff\">None</span>, <span style=\"color: #00af00; text-decoration-color: #00af00\">1024</span>)                │           <span style=\"color: #00af00; text-decoration-color: #00af00\">4,096</span> │\n",
              "│ (<span style=\"color: #0087ff; text-decoration-color: #0087ff\">BatchNormalization</span>)                 │                             │                 │\n",
              "├──────────────────────────────────────┼─────────────────────────────┼─────────────────┤\n",
              "│ dropout (<span style=\"color: #0087ff; text-decoration-color: #0087ff\">Dropout</span>)                    │ (<span style=\"color: #00d7ff; text-decoration-color: #00d7ff\">None</span>, <span style=\"color: #00af00; text-decoration-color: #00af00\">1024</span>)                │               <span style=\"color: #00af00; text-decoration-color: #00af00\">0</span> │\n",
              "├──────────────────────────────────────┼─────────────────────────────┼─────────────────┤\n",
              "│ dense_1 (<span style=\"color: #0087ff; text-decoration-color: #0087ff\">Dense</span>)                      │ (<span style=\"color: #00d7ff; text-decoration-color: #00d7ff\">None</span>, <span style=\"color: #00af00; text-decoration-color: #00af00\">512</span>)                 │         <span style=\"color: #00af00; text-decoration-color: #00af00\">524,800</span> │\n",
              "├──────────────────────────────────────┼─────────────────────────────┼─────────────────┤\n",
              "│ batch_normalization_1                │ (<span style=\"color: #00d7ff; text-decoration-color: #00d7ff\">None</span>, <span style=\"color: #00af00; text-decoration-color: #00af00\">512</span>)                 │           <span style=\"color: #00af00; text-decoration-color: #00af00\">2,048</span> │\n",
              "│ (<span style=\"color: #0087ff; text-decoration-color: #0087ff\">BatchNormalization</span>)                 │                             │                 │\n",
              "├──────────────────────────────────────┼─────────────────────────────┼─────────────────┤\n",
              "│ dropout_1 (<span style=\"color: #0087ff; text-decoration-color: #0087ff\">Dropout</span>)                  │ (<span style=\"color: #00d7ff; text-decoration-color: #00d7ff\">None</span>, <span style=\"color: #00af00; text-decoration-color: #00af00\">512</span>)                 │               <span style=\"color: #00af00; text-decoration-color: #00af00\">0</span> │\n",
              "├──────────────────────────────────────┼─────────────────────────────┼─────────────────┤\n",
              "│ dense_2 (<span style=\"color: #0087ff; text-decoration-color: #0087ff\">Dense</span>)                      │ (<span style=\"color: #00d7ff; text-decoration-color: #00d7ff\">None</span>, <span style=\"color: #00af00; text-decoration-color: #00af00\">256</span>)                 │         <span style=\"color: #00af00; text-decoration-color: #00af00\">131,328</span> │\n",
              "├──────────────────────────────────────┼─────────────────────────────┼─────────────────┤\n",
              "│ batch_normalization_2                │ (<span style=\"color: #00d7ff; text-decoration-color: #00d7ff\">None</span>, <span style=\"color: #00af00; text-decoration-color: #00af00\">256</span>)                 │           <span style=\"color: #00af00; text-decoration-color: #00af00\">1,024</span> │\n",
              "│ (<span style=\"color: #0087ff; text-decoration-color: #0087ff\">BatchNormalization</span>)                 │                             │                 │\n",
              "├──────────────────────────────────────┼─────────────────────────────┼─────────────────┤\n",
              "│ dropout_2 (<span style=\"color: #0087ff; text-decoration-color: #0087ff\">Dropout</span>)                  │ (<span style=\"color: #00d7ff; text-decoration-color: #00d7ff\">None</span>, <span style=\"color: #00af00; text-decoration-color: #00af00\">256</span>)                 │               <span style=\"color: #00af00; text-decoration-color: #00af00\">0</span> │\n",
              "├──────────────────────────────────────┼─────────────────────────────┼─────────────────┤\n",
              "│ dense_3 (<span style=\"color: #0087ff; text-decoration-color: #0087ff\">Dense</span>)                      │ (<span style=\"color: #00d7ff; text-decoration-color: #00d7ff\">None</span>, <span style=\"color: #00af00; text-decoration-color: #00af00\">105</span>)                 │          <span style=\"color: #00af00; text-decoration-color: #00af00\">26,985</span> │\n",
              "└──────────────────────────────────────┴─────────────────────────────┴─────────────────┘\n",
              "</pre>\n"
            ]
          },
          "metadata": {}
        },
        {
          "output_type": "display_data",
          "data": {
            "text/plain": [
              "\u001b[1m Total params: \u001b[0m\u001b[38;5;34m31,411,305\u001b[0m (119.82 MB)\n"
            ],
            "text/html": [
              "<pre style=\"white-space:pre;overflow-x:auto;line-height:normal;font-family:Menlo,'DejaVu Sans Mono',consolas,'Courier New',monospace\"><span style=\"font-weight: bold\"> Total params: </span><span style=\"color: #00af00; text-decoration-color: #00af00\">31,411,305</span> (119.82 MB)\n",
              "</pre>\n"
            ]
          },
          "metadata": {}
        },
        {
          "output_type": "display_data",
          "data": {
            "text/plain": [
              "\u001b[1m Trainable params: \u001b[0m\u001b[38;5;34m31,407,721\u001b[0m (119.81 MB)\n"
            ],
            "text/html": [
              "<pre style=\"white-space:pre;overflow-x:auto;line-height:normal;font-family:Menlo,'DejaVu Sans Mono',consolas,'Courier New',monospace\"><span style=\"font-weight: bold\"> Trainable params: </span><span style=\"color: #00af00; text-decoration-color: #00af00\">31,407,721</span> (119.81 MB)\n",
              "</pre>\n"
            ]
          },
          "metadata": {}
        },
        {
          "output_type": "display_data",
          "data": {
            "text/plain": [
              "\u001b[1m Non-trainable params: \u001b[0m\u001b[38;5;34m3,584\u001b[0m (14.00 KB)\n"
            ],
            "text/html": [
              "<pre style=\"white-space:pre;overflow-x:auto;line-height:normal;font-family:Menlo,'DejaVu Sans Mono',consolas,'Courier New',monospace\"><span style=\"font-weight: bold\"> Non-trainable params: </span><span style=\"color: #00af00; text-decoration-color: #00af00\">3,584</span> (14.00 KB)\n",
              "</pre>\n"
            ]
          },
          "metadata": {}
        }
      ]
    },
    {
      "cell_type": "code",
      "source": [
        "# Callbacks\n",
        "callbacks = [\n",
        "    EarlyStopping(\n",
        "        monitor='val_loss',\n",
        "        patience=4,\n",
        "        restore_best_weights=True,\n",
        "        verbose=1\n",
        "    ),\n",
        "    ReduceLROnPlateau(\n",
        "        monitor='val_loss',\n",
        "        factor=0.5,\n",
        "        patience=5,\n",
        "        min_lr=1e-6,\n",
        "        verbose=1\n",
        "    ),\n",
        "    ModelCheckpoint(\n",
        "        'best_model.keras',\n",
        "        monitor='val_loss',\n",
        "        save_best_only=True,\n",
        "        verbose=1\n",
        "    )\n",
        "]"
      ],
      "metadata": {
        "id": "Pl6H2V2kc9ty"
      },
      "execution_count": 10,
      "outputs": []
    },
    {
      "cell_type": "code",
      "source": [
        "# Train the model\n",
        "history = model.fit(\n",
        "    train_generator,\n",
        "    validation_data=validation_generator,\n",
        "    epochs=15,\n",
        "    callbacks=callbacks,\n",
        "    verbose=1\n",
        ")"
      ],
      "metadata": {
        "colab": {
          "base_uri": "https://localhost:8080/"
        },
        "id": "7MY9MWIWc9rk",
        "outputId": "7003a190-2677-4c7f-ebde-972e52043bb6"
      },
      "execution_count": 11,
      "outputs": [
        {
          "output_type": "stream",
          "name": "stdout",
          "text": [
            "Epoch 1/15\n"
          ]
        },
        {
          "output_type": "stream",
          "name": "stderr",
          "text": [
            "/usr/local/lib/python3.10/dist-packages/keras/src/trainers/data_adapters/py_dataset_adapter.py:121: UserWarning: Your `PyDataset` class should call `super().__init__(**kwargs)` in its constructor. `**kwargs` can include `workers`, `use_multiprocessing`, `max_queue_size`. Do not pass these arguments to `fit()`, as they will be ignored.\n",
            "  self._warn_if_super_not_called()\n"
          ]
        },
        {
          "output_type": "stream",
          "name": "stdout",
          "text": [
            "\u001b[1m437/439\u001b[0m \u001b[32m━━━━━━━━━━━━━━━━━━━\u001b[0m\u001b[37m━\u001b[0m \u001b[1m0s\u001b[0m 127ms/step - accuracy: 0.0265 - loss: 14.6465\n",
            "Epoch 1: val_loss improved from inf to 11.45677, saving model to best_model.keras\n",
            "\u001b[1m439/439\u001b[0m \u001b[32m━━━━━━━━━━━━━━━━━━━━\u001b[0m\u001b[37m\u001b[0m \u001b[1m82s\u001b[0m 173ms/step - accuracy: 0.0266 - loss: 14.6383 - val_accuracy: 0.0610 - val_loss: 11.4568 - learning_rate: 1.0000e-04\n",
            "Epoch 2/15\n",
            "\u001b[1m437/439\u001b[0m \u001b[32m━━━━━━━━━━━━━━━━━━━\u001b[0m\u001b[37m━\u001b[0m \u001b[1m0s\u001b[0m 120ms/step - accuracy: 0.2047 - loss: 10.4326\n",
            "Epoch 2: val_loss improved from 11.45677 to 7.64464, saving model to best_model.keras\n",
            "\u001b[1m439/439\u001b[0m \u001b[32m━━━━━━━━━━━━━━━━━━━━\u001b[0m\u001b[37m\u001b[0m \u001b[1m74s\u001b[0m 164ms/step - accuracy: 0.2055 - loss: 10.4270 - val_accuracy: 0.9840 - val_loss: 7.6446 - learning_rate: 1.0000e-04\n",
            "Epoch 3/15\n",
            "\u001b[1m437/439\u001b[0m \u001b[32m━━━━━━━━━━━━━━━━━━━\u001b[0m\u001b[37m━\u001b[0m \u001b[1m0s\u001b[0m 119ms/step - accuracy: 0.7125 - loss: 7.2444\n",
            "Epoch 3: val_loss improved from 7.64464 to 4.85201, saving model to best_model.keras\n",
            "\u001b[1m439/439\u001b[0m \u001b[32m━━━━━━━━━━━━━━━━━━━━\u001b[0m\u001b[37m\u001b[0m \u001b[1m68s\u001b[0m 154ms/step - accuracy: 0.7131 - loss: 7.2396 - val_accuracy: 1.0000 - val_loss: 4.8520 - learning_rate: 1.0000e-04\n",
            "Epoch 4/15\n",
            "\u001b[1m437/439\u001b[0m \u001b[32m━━━━━━━━━━━━━━━━━━━\u001b[0m\u001b[37m━\u001b[0m \u001b[1m0s\u001b[0m 119ms/step - accuracy: 0.9500 - loss: 4.7800\n",
            "Epoch 4: val_loss improved from 4.85201 to 3.42207, saving model to best_model.keras\n",
            "\u001b[1m439/439\u001b[0m \u001b[32m━━━━━━━━━━━━━━━━━━━━\u001b[0m\u001b[37m\u001b[0m \u001b[1m73s\u001b[0m 165ms/step - accuracy: 0.9501 - loss: 4.7773 - val_accuracy: 1.0000 - val_loss: 3.4221 - learning_rate: 1.0000e-04\n",
            "Epoch 5/15\n",
            "\u001b[1m437/439\u001b[0m \u001b[32m━━━━━━━━━━━━━━━━━━━\u001b[0m\u001b[37m━\u001b[0m \u001b[1m0s\u001b[0m 118ms/step - accuracy: 0.9878 - loss: 3.4197\n",
            "Epoch 5: val_loss improved from 3.42207 to 2.61704, saving model to best_model.keras\n",
            "\u001b[1m439/439\u001b[0m \u001b[32m━━━━━━━━━━━━━━━━━━━━\u001b[0m\u001b[37m\u001b[0m \u001b[1m70s\u001b[0m 159ms/step - accuracy: 0.9878 - loss: 3.4180 - val_accuracy: 1.0000 - val_loss: 2.6170 - learning_rate: 1.0000e-04\n",
            "Epoch 6/15\n",
            "\u001b[1m437/439\u001b[0m \u001b[32m━━━━━━━━━━━━━━━━━━━\u001b[0m\u001b[37m━\u001b[0m \u001b[1m0s\u001b[0m 118ms/step - accuracy: 0.9965 - loss: 2.5374\n",
            "Epoch 6: val_loss improved from 2.61704 to 1.95703, saving model to best_model.keras\n",
            "\u001b[1m439/439\u001b[0m \u001b[32m━━━━━━━━━━━━━━━━━━━━\u001b[0m\u001b[37m\u001b[0m \u001b[1m70s\u001b[0m 159ms/step - accuracy: 0.9965 - loss: 2.5362 - val_accuracy: 1.0000 - val_loss: 1.9570 - learning_rate: 1.0000e-04\n",
            "Epoch 7/15\n",
            "\u001b[1m437/439\u001b[0m \u001b[32m━━━━━━━━━━━━━━━━━━━\u001b[0m\u001b[37m━\u001b[0m \u001b[1m0s\u001b[0m 115ms/step - accuracy: 0.9970 - loss: 1.8751\n",
            "Epoch 7: val_loss improved from 1.95703 to 1.41949, saving model to best_model.keras\n",
            "\u001b[1m439/439\u001b[0m \u001b[32m━━━━━━━━━━━━━━━━━━━━\u001b[0m\u001b[37m\u001b[0m \u001b[1m83s\u001b[0m 161ms/step - accuracy: 0.9970 - loss: 1.8741 - val_accuracy: 1.0000 - val_loss: 1.4195 - learning_rate: 1.0000e-04\n",
            "Epoch 8/15\n",
            "\u001b[1m437/439\u001b[0m \u001b[32m━━━━━━━━━━━━━━━━━━━\u001b[0m\u001b[37m━\u001b[0m \u001b[1m0s\u001b[0m 118ms/step - accuracy: 0.9991 - loss: 1.3390\n",
            "Epoch 8: val_loss improved from 1.41949 to 0.99012, saving model to best_model.keras\n",
            "\u001b[1m439/439\u001b[0m \u001b[32m━━━━━━━━━━━━━━━━━━━━\u001b[0m\u001b[37m\u001b[0m \u001b[1m97s\u001b[0m 196ms/step - accuracy: 0.9991 - loss: 1.3382 - val_accuracy: 1.0000 - val_loss: 0.9901 - learning_rate: 1.0000e-04\n",
            "Epoch 9/15\n",
            "\u001b[1m437/439\u001b[0m \u001b[32m━━━━━━━━━━━━━━━━━━━\u001b[0m\u001b[37m━\u001b[0m \u001b[1m0s\u001b[0m 116ms/step - accuracy: 0.9997 - loss: 0.9254\n",
            "Epoch 9: val_loss improved from 0.99012 to 0.66400, saving model to best_model.keras\n",
            "\u001b[1m439/439\u001b[0m \u001b[32m━━━━━━━━━━━━━━━━━━━━\u001b[0m\u001b[37m\u001b[0m \u001b[1m131s\u001b[0m 171ms/step - accuracy: 0.9997 - loss: 0.9248 - val_accuracy: 1.0000 - val_loss: 0.6640 - learning_rate: 1.0000e-04\n",
            "Epoch 10/15\n",
            "\u001b[1m438/439\u001b[0m \u001b[32m━━━━━━━━━━━━━━━━━━━\u001b[0m\u001b[37m━\u001b[0m \u001b[1m0s\u001b[0m 116ms/step - accuracy: 0.9993 - loss: 0.6147\n",
            "Epoch 10: val_loss improved from 0.66400 to 0.43068, saving model to best_model.keras\n",
            "\u001b[1m439/439\u001b[0m \u001b[32m━━━━━━━━━━━━━━━━━━━━\u001b[0m\u001b[37m\u001b[0m \u001b[1m72s\u001b[0m 162ms/step - accuracy: 0.9993 - loss: 0.6144 - val_accuracy: 1.0000 - val_loss: 0.4307 - learning_rate: 1.0000e-04\n",
            "Epoch 11/15\n",
            "\u001b[1m437/439\u001b[0m \u001b[32m━━━━━━━━━━━━━━━━━━━\u001b[0m\u001b[37m━\u001b[0m \u001b[1m0s\u001b[0m 118ms/step - accuracy: 0.9998 - loss: 0.3988\n",
            "Epoch 11: val_loss improved from 0.43068 to 0.27256, saving model to best_model.keras\n",
            "\u001b[1m439/439\u001b[0m \u001b[32m━━━━━━━━━━━━━━━━━━━━\u001b[0m\u001b[37m\u001b[0m \u001b[1m86s\u001b[0m 172ms/step - accuracy: 0.9998 - loss: 0.3985 - val_accuracy: 1.0000 - val_loss: 0.2726 - learning_rate: 1.0000e-04\n",
            "Epoch 12/15\n",
            "\u001b[1m437/439\u001b[0m \u001b[32m━━━━━━━━━━━━━━━━━━━\u001b[0m\u001b[37m━\u001b[0m \u001b[1m0s\u001b[0m 114ms/step - accuracy: 0.9998 - loss: 0.2531\n",
            "Epoch 12: val_loss improved from 0.27256 to 0.17406, saving model to best_model.keras\n",
            "\u001b[1m439/439\u001b[0m \u001b[32m━━━━━━━━━━━━━━━━━━━━\u001b[0m\u001b[37m\u001b[0m \u001b[1m69s\u001b[0m 156ms/step - accuracy: 0.9998 - loss: 0.2529 - val_accuracy: 1.0000 - val_loss: 0.1741 - learning_rate: 1.0000e-04\n",
            "Epoch 13/15\n",
            "\u001b[1m437/439\u001b[0m \u001b[32m━━━━━━━━━━━━━━━━━━━\u001b[0m\u001b[37m━\u001b[0m \u001b[1m0s\u001b[0m 117ms/step - accuracy: 0.9997 - loss: 0.1630\n",
            "Epoch 13: val_loss improved from 0.17406 to 0.11063, saving model to best_model.keras\n",
            "\u001b[1m439/439\u001b[0m \u001b[32m━━━━━━━━━━━━━━━━━━━━\u001b[0m\u001b[37m\u001b[0m \u001b[1m67s\u001b[0m 152ms/step - accuracy: 0.9996 - loss: 0.1629 - val_accuracy: 1.0000 - val_loss: 0.1106 - learning_rate: 1.0000e-04\n",
            "Epoch 14/15\n",
            "\u001b[1m437/439\u001b[0m \u001b[32m━━━━━━━━━━━━━━━━━━━\u001b[0m\u001b[37m━\u001b[0m \u001b[1m0s\u001b[0m 117ms/step - accuracy: 0.9997 - loss: 0.1058\n",
            "Epoch 14: val_loss improved from 0.11063 to 0.07104, saving model to best_model.keras\n",
            "\u001b[1m439/439\u001b[0m \u001b[32m━━━━━━━━━━━━━━━━━━━━\u001b[0m\u001b[37m\u001b[0m \u001b[1m73s\u001b[0m 164ms/step - accuracy: 0.9997 - loss: 0.1058 - val_accuracy: 1.0000 - val_loss: 0.0710 - learning_rate: 1.0000e-04\n",
            "Epoch 15/15\n",
            "\u001b[1m437/439\u001b[0m \u001b[32m━━━━━━━━━━━━━━━━━━━\u001b[0m\u001b[37m━\u001b[0m \u001b[1m0s\u001b[0m 138ms/step - accuracy: 0.9996 - loss: 0.0705\n",
            "Epoch 15: val_loss improved from 0.07104 to 0.04611, saving model to best_model.keras\n",
            "\u001b[1m439/439\u001b[0m \u001b[32m━━━━━━━━━━━━━━━━━━━━\u001b[0m\u001b[37m\u001b[0m \u001b[1m86s\u001b[0m 172ms/step - accuracy: 0.9996 - loss: 0.0705 - val_accuracy: 1.0000 - val_loss: 0.0461 - learning_rate: 1.0000e-04\n",
            "Restoring model weights from the end of the best epoch: 15.\n"
          ]
        }
      ]
    },
    {
      "cell_type": "code",
      "source": [
        "# Plotting function\n",
        "def plot_training_history(history):\n",
        "    fig, (ax1, ax2) = plt.subplots(1, 2, figsize=(15, 5))\n",
        "\n",
        "    # Accuracy plot\n",
        "    ax1.plot(history.history['accuracy'])\n",
        "    ax1.plot(history.history['val_accuracy'])\n",
        "    ax1.set_title('Model Accuracy')\n",
        "    ax1.set_xlabel('Epoch')\n",
        "    ax1.set_ylabel('Accuracy')\n",
        "    ax1.legend(['Train', 'Validation'])\n",
        "\n",
        "    # Loss plot\n",
        "    ax2.plot(history.history['loss'])\n",
        "    ax2.plot(history.history['val_loss'])\n",
        "    ax2.set_title('Model Loss')\n",
        "    ax2.set_xlabel('Epoch')\n",
        "    ax2.set_ylabel('Loss')\n",
        "    ax2.legend(['Train', 'Validation'])\n",
        "\n",
        "    plt.tight_layout()\n",
        "    plt.show()"
      ],
      "metadata": {
        "id": "zT11lfnFdLfN"
      },
      "execution_count": 12,
      "outputs": []
    },
    {
      "cell_type": "code",
      "source": [
        "# Plot training history\n",
        "plot_training_history(history)"
      ],
      "metadata": {
        "colab": {
          "base_uri": "https://localhost:8080/",
          "height": 383
        },
        "id": "3TUDt7Bp3Dwz",
        "outputId": "2e5cb7f2-5eb1-4d91-8b65-85579f90e7cd"
      },
      "execution_count": 13,
      "outputs": [
        {
          "output_type": "display_data",
          "data": {
            "text/plain": [
              "<Figure size 1500x500 with 2 Axes>"
            ],
            "image/png": "[encoded data removed]"
          },
          "metadata": {}
        }
      ]
    },
    {
      "cell_type": "code",
      "source": [
        "# Evaluate model\n",
        "test_loss, test_accuracy = model.evaluate(validation_generator)\n",
        "print(f\"\\nTest accuracy: {test_accuracy:.4f}\")"
      ],
      "metadata": {
        "colab": {
          "base_uri": "https://localhost:8080/"
        },
        "id": "S90uq6mr3Frz",
        "outputId": "268d652c-1869-4301-88b9-5b0742420a48"
      },
      "execution_count": 14,
      "outputs": [
        {
          "output_type": "stream",
          "name": "stdout",
          "text": [
            "\u001b[1m110/110\u001b[0m \u001b[32m━━━━━━━━━━━━━━━━━━━━\u001b[0m\u001b[37m\u001b[0m \u001b[1m13s\u001b[0m 116ms/step - accuracy: 1.0000 - loss: 0.0461\n",
            "\n",
            "Test accuracy: 1.0000\n"
          ]
        }
      ]
    },
    {
      "cell_type": "code",
      "source": [
        "# Generate predictions\n",
        "predictions = model.predict(validation_generator)\n",
        "predicted_classes = np.argmax(predictions, axis=1)\n",
        "true_classes = validation_generator.classes"
      ],
      "metadata": {
        "colab": {
          "base_uri": "https://localhost:8080/"
        },
        "id": "NODmjj8h3I3K",
        "outputId": "66cbf339-ba6b-4d40-e8a0-1957d00953d7"
      },
      "execution_count": 15,
      "outputs": [
        {
          "output_type": "stream",
          "name": "stdout",
          "text": [
            "\u001b[1m110/110\u001b[0m \u001b[32m━━━━━━━━━━━━━━━━━━━━\u001b[0m\u001b[37m\u001b[0m \u001b[1m13s\u001b[0m 115ms/step\n"
          ]
        }
      ]
    },
    {
      "cell_type": "code",
      "source": [
        "# Print classification report\n",
        "print(\"\\nClassification Report:\")\n",
        "print(classification_report(\n",
        "    true_classes,\n",
        "    predicted_classes,\n",
        "    target_names=list(train_generator.class_indices.keys())\n",
        "))"
      ],
      "metadata": {
        "colab": {
          "base_uri": "https://localhost:8080/"
        },
        "id": "zWMgyhFQ3Kl_",
        "outputId": "0226dad1-87cb-4032-98c8-b022a02576ad"
      },
      "execution_count": 16,
      "outputs": [
        {
          "output_type": "stream",
          "name": "stdout",
          "text": [
            "\n",
            "Classification Report:\n",
            "                          precision    recall  f1-score   support\n",
            "\n",
            "105_classes_pins_dataset       1.00      1.00      1.00      3506\n",
            "\n",
            "                accuracy                           1.00      3506\n",
            "               macro avg       1.00      1.00      1.00      3506\n",
            "            weighted avg       1.00      1.00      1.00      3506\n",
            "\n"
          ]
        }
      ]
    },
    {
      "cell_type": "code",
      "source": [
        "# Function to predict single image\n",
        "def predict_image(image_path):\n",
        "    img = cv2.imread(image_path)\n",
        "    if img is None:\n",
        "        return None, None\n",
        "\n",
        "    img = cv2.resize(img, (100, 100))\n",
        "    img = img / 255.0\n",
        "    img = np.expand_dims(img, axis=0)\n",
        "\n",
        "    prediction = model.predict(img)\n",
        "    class_idx = np.argmax(prediction[0])\n",
        "    class_name = list(train_generator.class_indices.keys())[class_idx]\n",
        "    confidence = prediction[0][class_idx]\n",
        "\n",
        "    return class_name, confidence\n"
      ],
      "metadata": {
        "id": "cZuOB8Q53Mxs"
      },
      "execution_count": 17,
      "outputs": []
    },
    {
      "cell_type": "code",
      "source": [
        "# Save the model\n",
        "model.save('face_recognition_model_ANN.keras')\n",
        "print(\"\\nModel saved as 'face_recognition_model_ANN.keras'\")"
      ],
      "metadata": {
        "colab": {
          "base_uri": "https://localhost:8080/"
        },
        "id": "N_OUDA6U3Nqk",
        "outputId": "28a1e9b5-c946-49dc-b100-4144fe403a56"
      },
      "execution_count": 18,
      "outputs": [
        {
          "output_type": "stream",
          "name": "stdout",
          "text": [
            "\n",
            "Model saved as 'face_recognition_model_ANN.keras'\n"
          ]
        }
      ]
    },
    {
      "cell_type": "code",
      "source": [],
      "metadata": {
        "id": "p1UZL_Xd_UZw"
      },
      "execution_count": 18,
      "outputs": []
    }
  ]
}